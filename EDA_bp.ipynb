{
 "cells": [
  {
   "cell_type": "code",
   "execution_count": 206,
   "id": "41e28c5c",
   "metadata": {},
   "outputs": [],
   "source": [
    "import pandas as pd\n",
    "import numpy as np"
   ]
  },
  {
   "cell_type": "code",
   "execution_count": 207,
   "id": "a1aff295",
   "metadata": {},
   "outputs": [],
   "source": [
    "#Importing CSV\n",
    "df = pd.read_csv('FILE_NAME.csv', sep=\",\")"
   ]
  },
  {
   "cell_type": "markdown",
   "id": "551f70d3",
   "metadata": {},
   "source": [
    "# Initial Data check"
   ]
  },
  {
   "cell_type": "code",
   "execution_count": null,
   "id": "86db02aa",
   "metadata": {},
   "outputs": [],
   "source": [
    "df.head(5)"
   ]
  },
  {
   "cell_type": "code",
   "execution_count": null,
   "id": "f7342712",
   "metadata": {},
   "outputs": [],
   "source": [
    "df.tail(10)"
   ]
  },
  {
   "cell_type": "markdown",
   "id": "a43bb832",
   "metadata": {},
   "source": [
    "# Data Description"
   ]
  },
  {
   "cell_type": "code",
   "execution_count": null,
   "id": "252ba4b0",
   "metadata": {},
   "outputs": [],
   "source": [
    "df.describe()"
   ]
  },
  {
   "cell_type": "code",
   "execution_count": null,
   "id": "20450222",
   "metadata": {},
   "outputs": [],
   "source": [
    "df.info()"
   ]
  },
  {
   "cell_type": "markdown",
   "id": "2a5f74e0",
   "metadata": {},
   "source": [
    "# Missing values analysis"
   ]
  },
  {
   "cell_type": "code",
   "execution_count": null,
   "id": "46bdb1a2",
   "metadata": {},
   "outputs": [],
   "source": [
    "#Columns with missing values\n",
    "\n",
    "M = df.isna().any()\n",
    "c_missing_values = [S.index[i] for i in range(0,len(M)) if M.values[i] == True]\n",
    "c_missing_values"
   ]
  },
  {
   "cell_type": "code",
   "execution_count": null,
   "id": "cbbd6546",
   "metadata": {},
   "outputs": [],
   "source": [
    "#Quantity of Missing Values\n",
    "\n",
    "df.isna().sum()"
   ]
  },
  {
   "cell_type": "markdown",
   "id": "beaaaf19",
   "metadata": {},
   "source": [
    "# Outliers"
   ]
  },
  {
   "cell_type": "markdown",
   "id": "c75acdfa",
   "metadata": {},
   "source": [
    "# Data Imbalance"
   ]
  },
  {
   "cell_type": "markdown",
   "id": "37b25b6c",
   "metadata": {},
   "source": [
    "# DB Specific Examples:"
   ]
  },
  {
   "cell_type": "code",
   "execution_count": null,
   "id": "ff590d6a",
   "metadata": {},
   "outputs": [],
   "source": []
  }
 ],
 "metadata": {
  "kernelspec": {
   "display_name": "Python 3 (ipykernel)",
   "language": "python",
   "name": "python3"
  },
  "language_info": {
   "codemirror_mode": {
    "name": "ipython",
    "version": 3
   },
   "file_extension": ".py",
   "mimetype": "text/x-python",
   "name": "python",
   "nbconvert_exporter": "python",
   "pygments_lexer": "ipython3",
   "version": "3.11.7"
  }
 },
 "nbformat": 4,
 "nbformat_minor": 5
}
